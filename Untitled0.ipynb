{
  "nbformat": 4,
  "nbformat_minor": 0,
  "metadata": {
    "colab": {
      "name": "Untitled0.ipynb",
      "provenance": [],
      "authorship_tag": "ABX9TyMnHBqWoSVRGLTSbLOxiWg4",
      "include_colab_link": true
    },
    "kernelspec": {
      "name": "python3",
      "display_name": "Python 3"
    },
    "language_info": {
      "name": "python"
    }
  },
  "cells": [
    {
      "cell_type": "markdown",
      "metadata": {
        "id": "view-in-github",
        "colab_type": "text"
      },
      "source": [
        "<a href=\"https://colab.research.google.com/github/poudyalb/Python/blob/master/Untitled0.ipynb\" target=\"_parent\"><img src=\"https://colab.research.google.com/assets/colab-badge.svg\" alt=\"Open In Colab\"/></a>"
      ]
    },
    {
      "cell_type": "code",
      "metadata": {
        "colab": {
          "base_uri": "https://localhost:8080/"
        },
        "id": "BZCFUSyAEZbn",
        "outputId": "b266b4f1-6468-4ded-aa99-660b0251ac51"
      },
      "source": [
        "import numpy as np\n",
        "def bisect(func,a,b):\n",
        "  if(np.sign(func(a)) == np.sign(func(b))):\n",
        "    print(\"Root not bracketed by [a,b]\")\n",
        "    return\n",
        "  maxiter = 0\n",
        "  tol = 0.00005\n",
        "  while (maxiter<50 and abs((a-b))>tol):\n",
        "    m = (a+b)/2\n",
        "    print(a,\"   \", b, \"   \", m, \"   \", maxiter)\n",
        "    if(np.sign(func(m))==np.sign(func(a))):\n",
        "      a=m\n",
        "    else:\n",
        "      b=m\n",
        "    maxiter = maxiter + 1\n",
        "  root=(a+b)/2\n",
        "  print(\"root is: \",root);\n",
        "f = lambda x: (x**3)+2*(x**2)-3*x-1\n",
        "bisect(f, 1, 2)\n"
      ],
      "execution_count": 95,
      "outputs": [
        {
          "output_type": "stream",
          "text": [
            "1     2     1.5     0\n",
            "1     1.5     1.25     1\n",
            "1     1.25     1.125     2\n",
            "1.125     1.25     1.1875     3\n",
            "1.1875     1.25     1.21875     4\n",
            "1.1875     1.21875     1.203125     5\n",
            "1.1875     1.203125     1.1953125     6\n",
            "1.1953125     1.203125     1.19921875     7\n",
            "1.1953125     1.19921875     1.197265625     8\n",
            "1.197265625     1.19921875     1.1982421875     9\n",
            "1.1982421875     1.19921875     1.19873046875     10\n",
            "1.1982421875     1.19873046875     1.198486328125     11\n",
            "1.198486328125     1.19873046875     1.1986083984375     12\n",
            "1.1986083984375     1.19873046875     1.19866943359375     13\n",
            "1.19866943359375     1.19873046875     1.198699951171875     14\n",
            "root is:  1.1986846923828125\n"
          ],
          "name": "stdout"
        }
      ]
    },
    {
      "cell_type": "markdown",
      "metadata": {
        "id": "2-XQJe1RGQXm"
      },
      "source": [
        "# 5+5"
      ]
    },
    {
      "cell_type": "markdown",
      "metadata": {
        "id": "pqszrUYbGARk"
      },
      "source": [
        ""
      ]
    },
    {
      "cell_type": "markdown",
      "metadata": {
        "id": "RkKDZA9KEbyx"
      },
      "source": [
        "(4+6**2)**(1/2)\n",
        "\n",
        "\n"
      ]
    }
  ]
}